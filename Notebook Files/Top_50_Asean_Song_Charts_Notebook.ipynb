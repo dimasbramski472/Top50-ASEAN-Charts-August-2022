{
 "cells": [
  {
   "cell_type": "markdown",
   "id": "4daeb73b",
   "metadata": {},
   "source": [
    "# Top 50 ASEAN Song Charts August 2022 Analysis"
   ]
  },
  {
   "cell_type": "markdown",
   "id": "9830cd91",
   "metadata": {},
   "source": [
    "#### By : <font color='blue'>Dimas Brahmantyo (https://github.com/dimasbramski472)</font>"
   ]
  },
  {
   "cell_type": "markdown",
   "id": "df93f21d",
   "metadata": {},
   "source": [
    "The chart data is taken from 10 ASEAN countries including Brunei Darussalam, Cambodia, Indonesia, Laos, Malaysia, Myanmar, Philippines, Singapore, Thailand, and Vietnam as of August 26, 2022.\n",
    "\n",
    "Objectives:\n",
    "* See the correlation between each data variable.\n",
    "* Distribution of Artists, Song Genres, and Song Years.\n",
    "* Comparison between genres of songs on charts with the average of song position, duration, energy ratio, valence, speechiness, loudness, acousticness, popularity, and modes.\n",
    "\n",
    "\n",
    "NB : The Spotify API Code can be found in the Spotify API.ipynb file"
   ]
  },
  {
   "cell_type": "markdown",
   "id": "953fb9f2",
   "metadata": {},
   "source": [
    "### <font color='teal'>A. Library Used</font>"
   ]
  },
  {
   "cell_type": "markdown",
   "id": "43759eac",
   "metadata": {},
   "source": [
    "* `pandas` is a Python library used for working with data sets. It has functions for analyzing, cleaning, exploring, and manipulating data.\n",
    "* `pandasql` allows you to query pandas DataFrames using SQL syntax. It works similarly to sqldf in R .\n",
    "* `NumPy` which stands for Numerical Python, is a library consisting of multidimensional array objects and a collection of routines for processing those arrays. Using NumPy, mathematical and logical operations on arrays can be performed.\n",
    "* `Matplotlib` is a comprehensive library for creating static, animated, and interactive visualizations in Python.\n",
    "* `Seaborn` has a similar function to Matplotlib. tt provides higher-level interface for drawing attractive and informative statistical graphics than Matplotlib.\n",
    "* `Glob` is a Python library used to finds all the pathnames matching a specified pattern according to the rules used by the Unix shell, although results are returned in arbitrary order.\n",
    "* `Warnings` Warning messages are typically issued in situations where it is useful to alert the user of some condition in a program, where that condition (normally) doesn’t warrant raising an exception and terminating the program."
   ]
  },
  {
   "cell_type": "code",
   "execution_count": null,
   "id": "95a2fe77",
   "metadata": {},
   "outputs": [],
   "source": [
    "#install all libraries\n",
    "!pip install pandas\n",
    "!pip install pandasql\n",
    "!pip install numpy\n",
    "!pip install matplotlib\n",
    "!pip install seaborn"
   ]
  },
  {
   "cell_type": "code",
   "execution_count": null,
   "id": "3a56e5ee",
   "metadata": {},
   "outputs": [],
   "source": [
    "#Import All of the libraries\n",
    "import pandas as pd\n",
    "import pandasql as ps\n",
    "import matplotlib.pyplot as plt\n",
    "import numpy as np\n",
    "import seaborn as sns\n",
    "import glob\n",
    "import warnings\n",
    "warnings.simplefilter(\"ignore\")"
   ]
  },
  {
   "cell_type": "markdown",
   "id": "58b95985",
   "metadata": {},
   "source": [
    "### <font color='teal'>B. Understanding & Importing Data</font>"
   ]
  },
  {
   "cell_type": "markdown",
   "id": "24ed47d7",
   "metadata": {},
   "source": [
    "In this analysis process, 2 files are used which in file 1 contains analytical data from the song, which contains:\n",
    "* `songid` : The Spotify ID for the track\n",
    "\n",
    "* `song_title` : Track title\n",
    "\n",
    "* `song_singer` : Singer of the track\n",
    "\n",
    "* `song_album` : The title of the album in which the track is located\n",
    "\n",
    "* `song_position` : Position of the track on the chart\n",
    "\n",
    "* `song_country` : Country where the song chart takes place\n",
    "\n",
    "* `song_bpm`: Beats per minute showing the tempo of the track\n",
    "\n",
    "* `song_duration` : Duration of the track (in milliseconds)\n",
    "\n",
    "* `genre`: Track genre\n",
    "\n",
    "* `danceability`: Describes how suitable a track is for dancing based on a combination of musical elements including tempo,  rhythm stability, beat strength, and overall regularity. A value of 0.0 is least danceable and 1.0 is most danceable.\n",
    "\n",
    "* `energy`: Measure from 0.0 to 1.0 and represents a perceptual measure of intensity and activity. Typically, energetic tracks feel fast, loud, and noisy.\n",
    "\n",
    "* `key`: The key the track is in. Integers map to pitches using standard \"Pitch Class\" notation. For more details regarding pitch class notation, see the following link (https://en.wikipedia.org/wiki/Pitch_class).\n",
    "\n",
    "* `loudness` : The overall loudness of a track in decibels (dB). Loudness is the quality of a sound that is the primary psychological correlate of physical strength (amplitude).\n",
    "\n",
    "* `mode`: Indicates the modality (major or minor) of a track, the type of scale from which its melodic content is derived. Major is represented by 1 and minor is 0.\n",
    "\n",
    "* `speechiness`: Detects the presence of spoken words in a track. The more exclusively speech-like the recording (e.g. talk show, audio book, poetry), the closer to 1.0 the attribute value.\n",
    "\n",
    "* `acousticness`: A confidence measure from 0.0 to 1.0 of whether the track is acoustic.\n",
    "\n",
    "* `instrumentalness`: Predicts whether a track contains no vocals. \"Ooh\" and \"aah\" sounds are treated as instrumental in this context. Rap or spoken word tracks are clearly \"vocal\".\n",
    "\n",
    "* `liveness`: Detects the presence of an audience in the recording.\n",
    "\n",
    "* `valence`: A measure from 0.0 to 1.0 describing the musical positiveness conveyed by a track.\n",
    "\n",
    "* `popularity`: A range of values from 1-100 indicating the level of popularity of the track in the world."
   ]
  },
  {
   "cell_type": "code",
   "execution_count": null,
   "id": "96ee8c06",
   "metadata": {},
   "outputs": [],
   "source": [
    "#Import and Read the Dataset of Song Chart\n",
    "data1 = pd.read_csv(\"C:/Users/HP/Downloads/dataset_music_chart_fix.csv\", encoding ='unicode_escape')\n",
    "#Unicode escape sequence is a backslash followed by the letter 'u' followed by four hexadecimal digits (0-9a-fA-F). \n",
    "#It matches a character in the target sequence with the value specified by the four digits.\n",
    "data1"
   ]
  },
  {
   "cell_type": "markdown",
   "id": "086e8063",
   "metadata": {},
   "source": [
    "File 2 contains data related to singers on the chart, including:\n",
    "* `singer_id` : The Spotify ID for the track singer\n",
    "* `song_singer` : contains singer name data\n",
    "* `singer_origin` : The origin of the singer of the track, whether from ASEAN countries or not.\n",
    "* `singer_based_from` : The country where the singer of the track is domiciled or does his job."
   ]
  },
  {
   "cell_type": "code",
   "execution_count": null,
   "id": "28299da5",
   "metadata": {},
   "outputs": [],
   "source": [
    "data2 = pd.read_csv(\"C:/Users/HP/Downloads/dataset_singer_music_chart_ASEAN_August2022.csv\", encoding = 'unicode_escape')\n",
    "data2"
   ]
  },
  {
   "cell_type": "markdown",
   "id": "eb2a371c",
   "metadata": {},
   "source": [
    "### <font color='teal'>C. Selecting Data</font>"
   ]
  },
  {
   "cell_type": "markdown",
   "id": "cb6b683a",
   "metadata": {},
   "source": [
    "After we know what data is in data1 and data2, we can combine the two data into one query data. Here we use the pandasql library to unionize the two data.\n",
    "\n",
    "NB. When using a conventional SQL program, combining the two data to retrieve the entire data can use a \"full outer join\". However, because pandasql uses the SQLite system as its Database Engine, which cannot perform the \"full outer join\" command, we can do a left join on both data, then union all of the two data that have been joined."
   ]
  },
  {
   "cell_type": "code",
   "execution_count": null,
   "id": "04a08258",
   "metadata": {},
   "outputs": [],
   "source": [
    "#Select the data\n",
    "data = ps.sqldf(\"\"\"\n",
    "select data1.songid as songid, data2.singerid as singerid, data1.song_title as song_title, data1.song_singer as singer, data2.singer_origin as singer_origin, data2.singer_based_from as singer_based_from,\n",
    "data1.song_album as album, data1.song_year as year, data1.genre as genre, data1.song_position as position, data1.song_country as country, data1.song_bpm as BPM, data1.song_duration as duration, data1.danceability as danceability, data1.energy as energy,\n",
    "data1.key as key, data1.loudness as loudness, data1.mode as mode, data1.speechiness as speechiness, data1.acousticness as acousticness, data1.instrumentalness as instrumentalness, data1.liveness as liveness, data1.valence as valence, data1.popularity as popularity\n",
    "from data1 left join data2 using(song_singer)\n",
    "union all\n",
    "select data1.songid as songid, data2.singerid as singerid, data1.song_title as song_title, data1.song_singer as singer, data2.singer_origin as singer_origin, data2.singer_based_from as singer_based_from,\n",
    "data1.song_album as album,  data1.song_year as year, data1.genre as genre, data1.song_position as position, data1.song_country as country, data1.song_bpm as BPM, data1.song_duration as duration, data1.danceability as danceability, data1.energy as energy,\n",
    "data1.key as key, data1.loudness as loudness, data1.mode as mode, data1.speechiness as speechiness, data1.acousticness as acousticness, data1.instrumentalness as instrumentalness, data1.liveness as liveness, data1.valence as valence, data1.popularity as popularity\n",
    "from data2 left join data1 using(song_singer)\n",
    "where data1.song_singer is null\n",
    "\"\"\")\n",
    "#Show selected data\n",
    "data"
   ]
  },
  {
   "cell_type": "markdown",
   "id": "3d32f742",
   "metadata": {},
   "source": [
    "### <font color='teal'>D. Reading the Data</font>"
   ]
  },
  {
   "cell_type": "code",
   "execution_count": null,
   "id": "1ce026c5",
   "metadata": {},
   "outputs": [],
   "source": [
    "#Check if there are missing data values\n",
    "data.isna().sum()"
   ]
  },
  {
   "cell_type": "code",
   "execution_count": null,
   "id": "372e13f1",
   "metadata": {},
   "outputs": [],
   "source": [
    "#The data types present in the 'data' dataframe\n",
    "data.dtypes"
   ]
  },
  {
   "cell_type": "code",
   "execution_count": null,
   "id": "c189a2a7",
   "metadata": {},
   "outputs": [],
   "source": [
    "#Brief description of the variables in the 'data' dataframe\n",
    "data.describe()"
   ]
  },
  {
   "cell_type": "code",
   "execution_count": null,
   "id": "af4cd7e3",
   "metadata": {},
   "outputs": [],
   "source": [
    "ps.sqldf(\"\"\"\n",
    "select count (distinct songid) as song_unique_count from data1\n",
    "\"\"\")"
   ]
  },
  {
   "cell_type": "markdown",
   "id": "61f327c4",
   "metadata": {},
   "source": [
    "There are 349 different songs in the Top 50 Song Chart in 10 ASEAN countries,"
   ]
  },
  {
   "cell_type": "code",
   "execution_count": null,
   "id": "5036e5c1",
   "metadata": {},
   "outputs": [],
   "source": [
    "ps.sqldf(\"\"\"\n",
    "select count (distinct singerid) as singer_unique_count from data2\n",
    "\"\"\")"
   ]
  },
  {
   "cell_type": "markdown",
   "id": "a55ec4b9",
   "metadata": {},
   "source": [
    "And there are 245 different artists in the Top 50 Song Chart in 10 ASEAN countries."
   ]
  },
  {
   "cell_type": "markdown",
   "id": "0c200c40",
   "metadata": {},
   "source": [
    "## <font color='teal'>E. Data Analysis</font>"
   ]
  },
  {
   "cell_type": "markdown",
   "id": "a230048c",
   "metadata": {},
   "source": [
    "# <font color='black'>Correlation Analysis</font>"
   ]
  },
  {
   "cell_type": "markdown",
   "id": "427c2c90",
   "metadata": {},
   "source": [
    "* First, We look for the correlation between each data variable. Here we use a Correlation Map with a color gradient that shows how positive or negative the relationship between data variables is."
   ]
  },
  {
   "cell_type": "code",
   "execution_count": null,
   "id": "ff02b984",
   "metadata": {},
   "outputs": [],
   "source": [
    "#Plotting Correlation Map Data\n",
    "data_corr = data.corr()\n",
    "plt.figure(figsize=(15,15))\n",
    "\n",
    "#Make the Correlation Map using Seaborn\n",
    "data_corr_map = sns.heatmap(data_corr, vmin = -0.8, vmax = 0.8, cmap = 'RdYlGn', linewidth = 0.4, annot = True)"
   ]
  },
  {
   "cell_type": "markdown",
   "id": "f9a87eee",
   "metadata": {},
   "source": [
    "#### <font color='teal'>Correlation Map Analysis :</font>"
   ]
  },
  {
   "cell_type": "markdown",
   "id": "1f7d6f4d",
   "metadata": {},
   "source": [
    "      * Valence has a positive correlation with danceability and track energy.\n",
    "      * The biggest positive correlation was found in the relationship between energy and loudness of the track (0.76).\n",
    "      * The most significant negative correlation was found in the relationship between energy and acousticness of the track (-0.69)."
   ]
  },
  {
   "cell_type": "markdown",
   "id": "1489ed67",
   "metadata": {},
   "source": [
    "To see the spread of correlation data, we can use a scatter plot with a scatter line as a positive/negative indicator of the correlation of the data."
   ]
  },
  {
   "cell_type": "code",
   "execution_count": null,
   "id": "329cfe4b",
   "metadata": {},
   "outputs": [],
   "source": [
    "#Create multiple plot designs\n",
    "fig, ax = plt.subplots(2,1, figsize=(10,10))\n",
    "\n",
    "#Import the datas\n",
    "x = data['valence']\n",
    "y1 = data['danceability']\n",
    "y2 = data['energy']\n",
    "\n",
    "#Fit our data inside a polynomial function for Scatter line calculation\n",
    "m, a = np.polyfit(x,y1,1)\n",
    "n, b = np.polyfit(x,y2,1)\n",
    "\n",
    "#Create scatter plot graphic design\n",
    "sns.scatterplot(x = x, y = y1, ax = ax[0], color = 'crimson')\n",
    "sns.lineplot(x = x, y = m*x+a, ax = ax[0], color =  '#233d0d',linewidth=4)\n",
    "\n",
    "sns.scatterplot(x = x, y = y2, ax = ax[1], color = \"orange\")\n",
    "sns.lineplot(x = x, y = n*x+b, ax = ax[1], color =  '#1f68e0',linewidth=4)\n",
    "\n",
    "#Show the graph\n",
    "plt.show()"
   ]
  },
  {
   "cell_type": "code",
   "execution_count": null,
   "id": "af64005a",
   "metadata": {},
   "outputs": [],
   "source": [
    "fig, ax = plt.subplots(2,1, figsize=(10,10))\n",
    "\n",
    "x = data['energy']\n",
    "y3 = data['loudness']\n",
    "y4 = data['acousticness']\n",
    "\n",
    "a, b = np.polyfit(x,y3,1)\n",
    "\n",
    "c, d = np.polyfit(x,y4,1)\n",
    "\n",
    "sns.scatterplot(x = x, y = y3, ax = ax[0], color = 'olive')\n",
    "sns.lineplot(x = x, y = a*x+b, ax = ax[0], color =  '#9400d3',linewidth=4)\n",
    "\n",
    "sns.scatterplot(x = x, y = y4, ax = ax[1], color = \"teal\")\n",
    "sns.lineplot(x = x, y = c*x+d, ax = ax[1], color =  '#800000',linewidth=4)\n",
    "\n",
    "plt.show()"
   ]
  },
  {
   "cell_type": "markdown",
   "id": "9c897c53",
   "metadata": {},
   "source": [
    "# <font color='black'>Artists and Genres Analysis</font>"
   ]
  },
  {
   "cell_type": "markdown",
   "id": "5db9665a",
   "metadata": {},
   "source": [
    "After looking at the correlation between data variables, we will analyze the artists and genres of the tracks listed on the ASEAN Song Charts for August 2022."
   ]
  },
  {
   "cell_type": "markdown",
   "id": "a7ea443b",
   "metadata": {},
   "source": [
    "* First we create a data query to see top 10 singers with the most tracks on the chart."
   ]
  },
  {
   "cell_type": "code",
   "execution_count": null,
   "id": "600df106",
   "metadata": {},
   "outputs": [],
   "source": [
    "#Query Data\n",
    "data['singer_obj'] = data['singerid'].astype('str')\n",
    "top10_artist = data.groupby(['singer','genre','singer_origin','singer_based_from'],as_index=False)['singer_obj'].count()\n",
    "data_top10_artist = top10_artist.nlargest(10,'singer_obj')\n",
    "data_top10_artist"
   ]
  },
  {
   "cell_type": "markdown",
   "id": "f7f93f21",
   "metadata": {},
   "source": [
    "After knowing the top 10 artists on the ASEAN Charts, we can create a column chart based on the data that has been created previously."
   ]
  },
  {
   "cell_type": "code",
   "execution_count": null,
   "id": "1ec05a13",
   "metadata": {},
   "outputs": [],
   "source": [
    "#Determine the size of the plot chart image\n",
    "plt.subplots(figsize=(40,24))\n",
    "\n",
    "#Then, we define axis chart variables\n",
    "x = data_top10_artist['singer']\n",
    "y = data_top10_artist['singer_obj']\n",
    "\n",
    "#Plotting the chart\n",
    "plt.barh(x, y, height = 0.9, color = ['#5017c1','#5017c1','#7b2d7f','#92395c','#a7433d','#a7433d','#a26421','#8d7228','#6e8733','#4b9e3f','#17c150'])\n",
    "\n",
    "# Add annotation to bars\n",
    "for index, value in enumerate(y):\n",
    "    plt.text(value, index, str(value), fontsize = 20, fontweight=\"bold\")\n",
    "\n",
    "#Insert Title, X-axis and Y-axis label\n",
    "plt.title('Singer with Most Songs on ASEAN Music Charts\\nin August 2022', fontname = 'Times New Roman', fontsize = 40, fontweight=\"bold\")\n",
    "plt.xlabel('\\nTotal Songs', fontsize = 24, fontweight=\"bold\")\n",
    "plt.ylabel('\\nArtist Name', fontsize = 24, fontweight=\"bold\")\n",
    "\n",
    "#Manage the X-ticks and Y-ticks\n",
    "plt.yticks(fontsize=18, fontweight=\"bold\")\n",
    "plt.xticks(fontsize=18, fontweight=\"bold\")\n",
    "plt.tick_params(left = False)\n",
    "\n",
    "#Limit the X-axis\n",
    "plt.xlim(xmin = 0, xmax = 29)\n",
    "\n",
    "#Show the Chart\n",
    "plt.show()"
   ]
  },
  {
   "cell_type": "markdown",
   "id": "33585a43",
   "metadata": {},
   "source": [
    "#### <font color='teal'> Analysis :</font>"
   ]
  },
  {
   "cell_type": "markdown",
   "id": "4e472079",
   "metadata": {},
   "source": [
    "    * Mark Tuan became the singer with the most songs on the Charts with a total of 24 songs.\n",
    "    * All the singers who are included in the top 10 artists are from outside ASEAN; and 80% are from Pop and K-Pop genres."
   ]
  },
  {
   "cell_type": "markdown",
   "id": "edc9072a",
   "metadata": {},
   "source": [
    "* Next, we measure the comparison of artists from ASEAN countries and from foreign countries."
   ]
  },
  {
   "cell_type": "code",
   "execution_count": null,
   "id": "b12a8520",
   "metadata": {},
   "outputs": [],
   "source": [
    "data['singer_origin_obj'] = data['singer_origin'].astype('str')\n",
    "\n",
    "singer_origin_data = data.groupby(['singer_origin'], as_index = False)['singer_origin_obj'].count()\n",
    "singer_origin_data"
   ]
  },
  {
   "cell_type": "code",
   "execution_count": null,
   "id": "d693f66d",
   "metadata": {},
   "outputs": [],
   "source": [
    "#Set the figure plot size\n",
    "plt.figure(figsize=(20,10))\n",
    "\n",
    "# create plot\n",
    "myexplode=[0.1,0]\n",
    "plt.pie(singer_origin_data['singer_origin_obj'],labels = singer_origin_data['singer_origin'] ,autopct='%1.1f%%', explode=myexplode ,startangle=90, textprops={'fontsize': 20,'color':'w'}, labeldistance=None)\n",
    "\n",
    "# set label & title\n",
    "plt.title('Comparison of Artists from ASEAN Countries and Foreign Countries\\non ASEAN Song Charts August 2022\\n', fontname = 'Times New Roman', fontsize = 20, fontweight=\"bold\")\n",
    "\n",
    "# add legend\n",
    "plt.legend(bbox_to_anchor=(1.3,0.2), prop={'size': 14})\n",
    "\n",
    "#Show the plot chart data\n",
    "plt.show()"
   ]
  },
  {
   "cell_type": "markdown",
   "id": "1b134bac",
   "metadata": {},
   "source": [
    "#### <font color='teal'>Analysis :</font>"
   ]
  },
  {
   "cell_type": "markdown",
   "id": "c43a8606",
   "metadata": {},
   "source": [
    "    * Foreign Artist(s) dominate the number of artists origin by 77.8%, while ASEAN Countries Artist(s) make up 22.2% of the total artists in the data. "
   ]
  },
  {
   "cell_type": "markdown",
   "id": "a2ec05d4",
   "metadata": {},
   "source": [
    "* We create a data query to see the composition of the number of songs by genre."
   ]
  },
  {
   "cell_type": "code",
   "execution_count": null,
   "id": "60e70912",
   "metadata": {},
   "outputs": [],
   "source": [
    "#The distribution of the types of genres on the ASEAN song charts in August 2022\n",
    "data['genre_obj'] = data['genre']\n",
    "data_top = data.groupby(['genre'],as_index=False)['genre_obj'].count()\n",
    "data_top"
   ]
  },
  {
   "cell_type": "code",
   "execution_count": null,
   "id": "4ea5ad0f",
   "metadata": {},
   "outputs": [],
   "source": [
    "#resize figure chart\n",
    "plt.figure(figsize=(30,25))\n",
    "\n",
    "#input axis variable\n",
    "x = data_top['genre']\n",
    "y = data_top['genre_obj']\n",
    "\n",
    "#Plotting the chart\n",
    "plot3 = plt.bar(x,y, width = 0.65, color = ['#199536','#198943','#196f5d','#195f6e','#194d80','#19418d','#193995','#253692','#32338f','#462e8a','#632783','#702380','#7b207e','#951978','#95226f','#952e62','#953c53','#954f40','#957419'])\n",
    "plt.bar_label(plot3, label_type = 'edge', fontsize = 25, fontweight = 'bold')\n",
    "\n",
    "#Insert Title, X-axis and Y-axis label\n",
    "plt.title('Comparison Graph of the Number of Songs on the ASEAN Charts in August 2022\\nby Music Genre\\n', fontname = 'Times New Roman', fontsize = 40, fontweight=\"bold\")\n",
    "plt.xlabel('Song Genres', fontsize = 30, fontweight=\"bold\")\n",
    "plt.ylabel('Number of Songs', fontsize = 30, fontweight=\"bold\")\n",
    "\n",
    "#Manage the X-ticks and Y-ticks\n",
    "plt.yticks(fontsize=18, fontweight=\"bold\")\n",
    "plt.xticks(fontsize=17, fontweight=\"bold\", rotation = 75)\n",
    "plt.tick_params(bottom = False)\n",
    "\n",
    "#Show the Chart\n",
    "plt.show()"
   ]
  },
  {
   "cell_type": "markdown",
   "id": "d0f45ac5",
   "metadata": {},
   "source": [
    "#### <font color='teal'>Analysis :</font>"
   ]
  },
  {
   "cell_type": "markdown",
   "id": "56d98cfa",
   "metadata": {},
   "source": [
    "       * There are 19 genre tracks on the ASEAN song charts in August 2022.\n",
    "       * Pop and K-Pop tracks have the most significant number among other genres, where these two genres make up 55% of the total number of songs.\n",
    "       * J-Pop, Nu Metal, and Reggae become the genre with the least number of songs with 1 song each."
   ]
  },
  {
   "cell_type": "code",
   "execution_count": null,
   "id": "b815c3aa",
   "metadata": {},
   "outputs": [],
   "source": [
    "top10_songs = data.groupby(['song_title','singer','genre'])['songid'].count()\n",
    "top10_songs.sort_values(ascending=False).head(10)"
   ]
  },
  {
   "cell_type": "markdown",
   "id": "50338cad",
   "metadata": {},
   "source": [
    "#### <font color='teal'>Analysis :</font>"
   ]
  },
  {
   "cell_type": "markdown",
   "id": "a261893a",
   "metadata": {},
   "source": [
    "    Pink Venom became the most famous song on ASEAN Music Charts in August 2022 with distribution in 9 ASEAN countries.\n",
    "   "
   ]
  },
  {
   "cell_type": "markdown",
   "id": "8185708c",
   "metadata": {},
   "source": [
    "* The distribution of the tracks by track year is indicated by a line chart."
   ]
  },
  {
   "cell_type": "code",
   "execution_count": null,
   "id": "941a1225",
   "metadata": {},
   "outputs": [],
   "source": [
    "data['year_obj']=data['year'].astype('int')\n",
    "df_year = data.groupby(['year'],as_index=False)['year_obj'].count()\n",
    "df_year"
   ]
  },
  {
   "cell_type": "code",
   "execution_count": null,
   "id": "86e13c9e",
   "metadata": {},
   "outputs": [],
   "source": [
    "#Resize figure chart\n",
    "plt.figure(figsize=(16,16))\n",
    "\n",
    "#Input axis variable\n",
    "x = df_year['year']\n",
    "y = df_year['year_obj']\n",
    "\n",
    "#Plotting the chart\n",
    "plot2 = plt.plot(x,y)\n",
    "\n",
    "#Axis Chart Setting\n",
    "plt.yticks([1, 30, 60, 90, 120, 150, 180, 210, 240],['1','30','60','90','120','150','180','210','240'],fontweight=\"bold\", fontsize = 14)\n",
    "plt.xticks([1969, 1981, 1992, 2001, 2002, 2003, 2008, 2011, 2012, 2013, 2014, 2015, 2016, 2017, 2018, 2019, 2020, 2021, 2022],['1969', '1981', '1992', '2001', '2002', '2003', '2008', '2011', '2012', '2013', '2014', '2015', '2016', '2017', '2018', '2019', '2020', '2021', '2022'], rotation=90, fontweight=\"bold\", fontsize = 14)\n",
    "plt.ylim(ymin=-5, ymax=250)\n",
    "plt.tick_params(bottom = False)\n",
    "\n",
    "#Set the color, shape, and size of lines and markers\n",
    "plt.setp(plot2, color='steelblue', linestyle='-',linewidth=3, marker='o', markersize=8, markerfacecolor='firebrick')\n",
    "\n",
    "#Add Grid\n",
    "plt.grid(color='grey', linestyle=':', linewidth=0.75)\n",
    "\n",
    "#Add Title, X-axis and Y-axis label\n",
    "plt.title('Spread of Number of Songs on ASIAN Charts for August 2022\\n(By Year)\\n', fontsize = 30, fontname = 'Times New Roman', fontweight = 'bold')\n",
    "plt.xlabel('\\nYear', fontsize = 20, fontweight = 'bold')\n",
    "plt.ylabel('Total Song\\n', fontsize = 20, fontweight = 'bold')\n",
    "\n",
    "#Show chart\n",
    "plt.show()"
   ]
  },
  {
   "cell_type": "markdown",
   "id": "b0e08f01",
   "metadata": {},
   "source": [
    "#### <font color='teal'>Analysis :</font>"
   ]
  },
  {
   "cell_type": "markdown",
   "id": "0f1e58b5",
   "metadata": {},
   "source": [
    "    The tracks on the ASEAN Song Charts August 2022 are from 1969 to 2022, with the highest number of songs dating from 2022 that is as many as 219 tracks."
   ]
  },
  {
   "cell_type": "markdown",
   "id": "4a36586b",
   "metadata": {},
   "source": [
    "# <font color='black'>Analysis of Average Attributes in Track Genres</font>"
   ]
  },
  {
   "cell_type": "markdown",
   "id": "01fe5474",
   "metadata": {},
   "source": [
    "   Here only track genres with more than 5 tracks are used, so that the analytical measurements can be more valid."
   ]
  },
  {
   "cell_type": "markdown",
   "id": "d1c5247f",
   "metadata": {},
   "source": [
    "### <font color='dark brown'>Track Genre with Average Track Position on Chart</font>"
   ]
  },
  {
   "cell_type": "code",
   "execution_count": null,
   "id": "39b6d692",
   "metadata": {},
   "outputs": [],
   "source": [
    "#Query Data\n",
    "data_genre_position = data.groupby(['genre'], as_index = False)['position'].mean()\n",
    "data_genre_position = data_genre_position.drop([2,3,7,9,11,14,15,16,18])\n",
    "data_genre_position"
   ]
  },
  {
   "cell_type": "code",
   "execution_count": null,
   "id": "01ed3ad3",
   "metadata": {},
   "outputs": [],
   "source": [
    "#Resize figure chart\n",
    "plt.figure(figsize=(30,25))\n",
    "\n",
    "#Input axis variable\n",
    "x = data_genre_position['genre']\n",
    "y = data_genre_position['position']\n",
    "\n",
    "#Visualize the data with Bar Chart\n",
    "data_genre_position_plot = plt.bar(x,y, color = ['#db2a27','#db6c27','#b37d1b','#9e9719','#9ec20e','#329906','#0b9c62','#174673','#3d0f94','#800a70'])\n",
    "plt.bar_label(data_genre_position_plot, label_type = 'edge', fontsize = 26, fmt='%.2f', fontweight = 'bold')\n",
    "\n",
    "#Add Title, X-axis and Y-axis label\n",
    "plt.title('\\nComparison Graph of Song Genres on ASEAN Charts in August 2022\\nBased on Average Song Positions on Charts\\n', fontsize = 40, fontname = 'Times New Roman', fontweight = 'bold')\n",
    "plt.xlabel('\\nSong Genre', fontsize = 26, fontweight = 'bold')\n",
    "plt.ylabel('Average Song Position on Charts\\n', fontsize = 26, fontweight = 'bold')\n",
    "\n",
    "#Axis Chart Settings\n",
    "plt.ylim(ymax = 40)\n",
    "plt.yticks(fontsize=18, fontweight=\"bold\")\n",
    "plt.xticks(fontsize=17, fontweight=\"bold\", rotation = 75)\n",
    "plt.tick_params(bottom = False)\n",
    "\n",
    "#Show the chart\n",
    "plt.show()"
   ]
  },
  {
   "cell_type": "markdown",
   "id": "6b24a1c4",
   "metadata": {},
   "source": [
    "#### <font color='teal'>Analysis :</font>"
   ]
  },
  {
   "cell_type": "markdown",
   "id": "926fbb45",
   "metadata": {},
   "source": [
    "Tracks with the Pop Rock genre have the highest average chart ranking with an average of being at position 22.03 out of 50. While tracks with the Pop Rap genre have the lowest average chart ranking, which is 30.86 out of 50."
   ]
  },
  {
   "cell_type": "markdown",
   "id": "1d9864d8",
   "metadata": {},
   "source": [
    "### <font color='dark brown'>Track Genre with Average Track Energy Ratio</font>"
   ]
  },
  {
   "cell_type": "code",
   "execution_count": null,
   "id": "2e1a6072",
   "metadata": {},
   "outputs": [],
   "source": [
    "#Query Data\n",
    "data_genre_energy = data.groupby(['genre'], as_index = False)['energy'].mean()\n",
    "data_genre_energy = data_genre_energy.drop([2,3,7,9,11,14,15,16,18])\n",
    "data_genre_energy"
   ]
  },
  {
   "cell_type": "code",
   "execution_count": null,
   "id": "cd468586",
   "metadata": {},
   "outputs": [],
   "source": [
    "#Resize figure chart\n",
    "plt.figure(figsize=(30,25))\n",
    "\n",
    "#Input axis variable\n",
    "x = data_genre_energy['genre']\n",
    "y = data_genre_energy['energy']\n",
    "\n",
    "#Visualize the data with Bar Chart\n",
    "data_genre_energy_plot = plt.bar(x,y, color = ['#db2a27','#dc6c27','#b37d1b','#9e9719','#9ec20e','#329906','#0b9c62','#174673','#3d0f94','#800a70'])\n",
    "plt.bar_label(data_genre_energy_plot, label_type = 'edge', fontsize = 24, fmt='%.3f', fontweight = 'bold')\n",
    "\n",
    "#Add Title, X-axis and Y-axis label\n",
    "plt.title('\\nComparison Graph of Song Genres on ASEAN Charts in August 2022\\nBased on Song Energy\\n', fontsize = 36, fontname = 'Times New Roman', fontweight = 'bold')\n",
    "plt.xlabel('\\nSong Genre', fontsize = 26, fontweight = 'bold')\n",
    "plt.ylabel('Energy Ratio\\n', fontsize = 26, fontweight = 'bold')\n",
    "\n",
    "#Axis Chart Settings\n",
    "plt.ylim(ymax = 1)\n",
    "plt.yticks(fontsize=18, fontweight=\"bold\")\n",
    "plt.xticks(fontsize=17, fontweight=\"bold\", rotation = 75)\n",
    "plt.tick_params(bottom = False)\n",
    "\n",
    "#Show the Chart\n",
    "plt.show()"
   ]
  },
  {
   "cell_type": "markdown",
   "id": "c523cda3",
   "metadata": {},
   "source": [
    "#### <font color='teal'>Analysis :</font>"
   ]
  },
  {
   "cell_type": "markdown",
   "id": "6067685f",
   "metadata": {},
   "source": [
    "EDM is the track genre with the highest average energy ratio, followed by K-pop. Meanwhile, RnB/Soul is the track genre with the smallest energy ratio."
   ]
  },
  {
   "cell_type": "markdown",
   "id": "950b4414",
   "metadata": {},
   "source": [
    "### <font color='dark brown'>Track Genre with Average Track Valence Ratio</font>"
   ]
  },
  {
   "cell_type": "code",
   "execution_count": null,
   "id": "6b0ede3c",
   "metadata": {},
   "outputs": [],
   "source": [
    "#Data Query\n",
    "data_genre_valence = data.groupby(['genre'], as_index = False)['valence'].mean()\n",
    "data_genre_valence = data_genre_valence.drop([2,3,7,9,11,14,15,16,18])\n",
    "data_genre_valence"
   ]
  },
  {
   "cell_type": "code",
   "execution_count": null,
   "id": "64d407a6",
   "metadata": {},
   "outputs": [],
   "source": [
    "#Resize figure chart\n",
    "plt.figure(figsize=(30,25))\n",
    "\n",
    "#Input axis variable\n",
    "x = data_genre_valence['genre']\n",
    "y = data_genre_valence['valence']\n",
    "\n",
    "#Visualize the data with Bar Chart\n",
    "data_genre_valence_plot = plt.bar(x,y, width = 0.9, color = ['#db2a27','#dc6c27','#b37d1b','#9e9719','#9ec20e','#329906','#0b9c62','#174673','#3d0f94','#800a70'])\n",
    "plt.bar_label(data_genre_valence_plot, label_type = 'edge', fontsize = 24, fmt='%.4f', fontweight = 'bold')\n",
    "\n",
    "#Add Title, X-axis and Y-axis label\n",
    "plt.title('\\nComparison Graph of Song Genres on ASEAN Charts in August 2022\\nBased on Song Valence\\n', fontsize = 36, fontname = 'Times New Roman', fontweight = 'bold')\n",
    "plt.xlabel('\\nSong Genre', fontsize = 26, fontweight = 'bold')\n",
    "plt.ylabel('Valence Ratio\\n', fontsize = 26, fontweight = 'bold')\n",
    "\n",
    "#Axis Chart Settings\n",
    "plt.ylim(ymax = 1)\n",
    "plt.yticks(fontsize=18, fontweight=\"bold\")\n",
    "plt.xticks(fontsize=17, fontweight=\"bold\", rotation = 75)\n",
    "plt.tick_params(bottom = False)\n",
    "\n",
    "#Show the Chart\n",
    "plt.show()"
   ]
  },
  {
   "cell_type": "markdown",
   "id": "302babc0",
   "metadata": {},
   "source": [
    "#### <font color='teal'>Analysis :</font>"
   ]
  },
  {
   "cell_type": "markdown",
   "id": "8866a213",
   "metadata": {},
   "source": [
    "Hip-hop/Rap became the genre with the highest average valence ratio; which shows the greatest positivity on the mood of the genre track. C-Pop is the genre with the lowest valence ratio among other genres."
   ]
  },
  {
   "cell_type": "markdown",
   "id": "783ffa70",
   "metadata": {},
   "source": [
    "### <font color='dark brown'>Track Genre with Average Track Duration</font>"
   ]
  },
  {
   "cell_type": "code",
   "execution_count": null,
   "id": "42daab70",
   "metadata": {},
   "outputs": [],
   "source": [
    "#Data Query\n",
    "data_genre_duration = data.groupby(['genre'], as_index = False)['duration'].mean()\n",
    "data_genre_duration = data_genre_duration.drop([2,3,7,9,11,14,15,16,18])\n",
    "data_genre_duration"
   ]
  },
  {
   "cell_type": "code",
   "execution_count": null,
   "id": "ec6c70e3",
   "metadata": {},
   "outputs": [],
   "source": [
    "#Resize figure chart\n",
    "plt.figure(figsize=(30,25))\n",
    "\n",
    "#Input axis variable\n",
    "x = data_genre_duration['genre']\n",
    "y = data_genre_duration['duration']\n",
    "\n",
    "#Visualize the data with Bar Chart\n",
    "data_genre_duration_plot = plt.bar(x,y, width = 0.88, color = ['#db2a27','#dc6c27','#b37d1b','#9e9719','#9ec20e','#329906','#0b9c62','#174673','#3d0f94','#800a70'])\n",
    "plt.bar_label(data_genre_duration_plot, label_type = 'edge', fontsize = 22, fmt='%.0f', fontweight = 'bold')\n",
    "\n",
    "#Add Title, X-axis and Y-axis label\n",
    "plt.title('\\nComparison Graph of Song Genres on ASEAN Charts in August 2022\\nBased on Song Duration\\n', fontsize = 36, fontname = 'Times New Roman', fontweight = 'bold')\n",
    "plt.xlabel('\\nSong Genre', fontsize = 26, fontweight = 'bold')\n",
    "plt.ylabel('Duration (ms)\\n', fontsize = 26, fontweight = 'bold')\n",
    "\n",
    "#Axis Chart Settings\n",
    "plt.yticks(fontsize=18, fontweight=\"bold\")\n",
    "plt.xticks(fontsize=17, fontweight=\"bold\", rotation = 75)\n",
    "plt.tick_params(bottom = False)\n",
    "\n",
    "#Show the Chart\n",
    "plt.show()"
   ]
  },
  {
   "cell_type": "markdown",
   "id": "acd0c193",
   "metadata": {},
   "source": [
    "#### <font color='teal'>Analysis :</font>"
   ]
  },
  {
   "cell_type": "markdown",
   "id": "c4113b2b",
   "metadata": {},
   "source": [
    "    The RnB/Soul genre has the longest average track duration, which is 248567 ms, while K-Pop has the fastest average track duration of 197075 ms."
   ]
  },
  {
   "cell_type": "markdown",
   "id": "87d4e05e",
   "metadata": {},
   "source": [
    "### <font color='dark brown'>Track Genre with Average Track Speechiness Ratio</font>"
   ]
  },
  {
   "cell_type": "code",
   "execution_count": null,
   "id": "3845a5bb",
   "metadata": {},
   "outputs": [],
   "source": [
    "#Query Data\n",
    "data_genre_speechiness = data.groupby(['genre'], as_index = False)['speechiness'].mean()\n",
    "data_genre_speechiness = data_genre_speechiness.drop([2,3,7,9,11,14,15,16,18])\n",
    "data_genre_speechiness"
   ]
  },
  {
   "cell_type": "code",
   "execution_count": null,
   "id": "98fa18af",
   "metadata": {},
   "outputs": [],
   "source": [
    "#Resize figure chart\n",
    "plt.figure(figsize=(30,25))\n",
    "\n",
    "#Input axis variable\n",
    "x = data_genre_speechiness['genre']\n",
    "y = data_genre_speechiness['speechiness']\n",
    "\n",
    "#Visualize the data with Bar Chart\n",
    "data_genre_speechiness_plot = plt.bar(x,y, width = 0.88, color = ['#db2a27','#dc6c27','#b37d1b','#9e9719','#9ec20e','#329906','#0b9c62','#174673','#3d0f94','#800a70'])\n",
    "plt.bar_label(data_genre_speechiness_plot, label_type = 'edge', fontsize = 22, fmt='%.4f', fontweight = 'bold')\n",
    "\n",
    "#Add Title, X-axis and Y-axis label\n",
    "plt.title('\\nComparison Graph of Song Genres on ASEAN Charts in August 2022\\nBased on Song Speechiness\\n', fontsize = 36, fontname = 'Times New Roman', fontweight = 'bold')\n",
    "plt.xlabel('\\nSong Genre', fontsize = 26, fontweight = 'bold')\n",
    "plt.ylabel('Speechiness Ratio\\n', fontsize = 26, fontweight = 'bold')\n",
    "\n",
    "#Axis Chart Settings\n",
    "plt.yticks(fontsize=18, fontweight=\"bold\")\n",
    "plt.xticks(fontsize=17, fontweight=\"bold\", rotation = 75)\n",
    "plt.tick_params(bottom = False)\n",
    "\n",
    "#Show the Query Data Chart\n",
    "plt.show()"
   ]
  },
  {
   "cell_type": "markdown",
   "id": "34ccfc22",
   "metadata": {},
   "source": [
    "#### <font color='teal'>Analysis :</font>"
   ]
  },
  {
   "cell_type": "markdown",
   "id": "2bbc539f",
   "metadata": {},
   "source": [
    "    Hip-Hop has the highest speechiness ratio compared to other genres."
   ]
  },
  {
   "cell_type": "markdown",
   "id": "06fba288",
   "metadata": {},
   "source": [
    "### <font color='dark brown'>Track Genre with Average BPM</font>"
   ]
  },
  {
   "cell_type": "code",
   "execution_count": null,
   "id": "21c4114a",
   "metadata": {},
   "outputs": [],
   "source": [
    "#Query Data\n",
    "data_genre_bpm = data.groupby(['genre'], as_index = False)['BPM'].mean()\n",
    "data_genre_bpm = data_genre_bpm.drop([2,3,7,9,11,14,15,16,18])\n",
    "data_genre_bpm"
   ]
  },
  {
   "cell_type": "code",
   "execution_count": null,
   "id": "c59d5de0",
   "metadata": {},
   "outputs": [],
   "source": [
    "#Resize figure chart\n",
    "plt.figure(figsize=(30,25))\n",
    "\n",
    "#Input axis variable\n",
    "x = data_genre_bpm['genre']\n",
    "y = data_genre_bpm['BPM']\n",
    "\n",
    "#Visualize the data with Bar Chart\n",
    "data_genre_bpm_plot = plt.bar(x,y, width = 0.88, color = ['#db2a27','#dc6c27','#b37d1b','#9e9719','#9ec20e','#329906','#0b9c62','#174673','#3d0f94','#800a70'])\n",
    "plt.bar_label(data_genre_bpm_plot, label_type = 'edge', fontsize = 22, fmt='%.4f', fontweight = 'bold')\n",
    "\n",
    "#Add Title, X-axis and Y-axis label\n",
    "plt.title('\\nComparison Graph of Song Genres on ASEAN Charts in August 2022\\nBased on Song BPM\\n', fontsize = 36, fontname = 'Times New Roman', fontweight = 'bold')\n",
    "plt.xlabel('\\nSong Genre', fontsize = 26, fontweight = 'bold')\n",
    "plt.ylabel('Beats per Minute\\n', fontsize = 26, fontweight = 'bold')\n",
    "\n",
    "#Axis Chart Settings\n",
    "plt.yticks(fontsize=18, fontweight=\"bold\")\n",
    "plt.xticks(fontsize=17, fontweight=\"bold\", rotation = 75)\n",
    "plt.tick_params(bottom = False)\n",
    "\n",
    "#Show the Query Data Chart\n",
    "plt.show()"
   ]
  },
  {
   "cell_type": "markdown",
   "id": "888b54ff",
   "metadata": {},
   "source": [
    "#### <font color='teal'>Analysis :</font>"
   ]
  },
  {
   "cell_type": "markdown",
   "id": "677bc672",
   "metadata": {},
   "source": [
    "       Pop Rock has a higher BPM than any other genre, followed by Hip-hop/Rap. Meanwhile, Electropop is the genre with the lowest BPM."
   ]
  },
  {
   "cell_type": "markdown",
   "id": "ecb7daf9",
   "metadata": {},
   "source": [
    "### <font color='dark brown'>Track Genre with Average Loudness (dB)</font>"
   ]
  },
  {
   "cell_type": "code",
   "execution_count": null,
   "id": "2e9cc0ea",
   "metadata": {},
   "outputs": [],
   "source": [
    "data_genre_loudness = data.groupby(['genre'], as_index = False)['loudness'].mean()\n",
    "data_genre_loudness = data_genre_loudness.drop([2,3,7,9,11,14,15,16,18])\n",
    "data_genre_loudness"
   ]
  },
  {
   "cell_type": "code",
   "execution_count": null,
   "id": "742789f3",
   "metadata": {},
   "outputs": [],
   "source": [
    "#Resize figure chart\n",
    "plt.figure(figsize=(30,25))\n",
    "\n",
    "#Input axis variable\n",
    "x = data_genre_loudness['genre']\n",
    "y = data_genre_loudness['loudness']\n",
    "\n",
    "#Visualize the data with Bar Chart\n",
    "data_genre_loudness_plot = plt.bar(x,y, width = 0.88, color = ['#db2a27','#dc6c27','#b37d1b','#9e9719','#9ec20e','#329906','#0b9c62','#174673','#3d0f94','#800a70'])\n",
    "plt.bar_label(data_genre_loudness_plot, label_type = 'edge', fontsize = 26, fmt='%.3f', fontweight = 'bold')\n",
    "\n",
    "#Add Title, X-axis and Y-axis label\n",
    "plt.title('\\nComparison Graph of Song Genres on ASEAN Charts in August 2022\\nBased on Song Loudness\\n', fontsize = 36, fontname = 'Times New Roman', fontweight = 'bold')\n",
    "plt.xlabel('\\nSong Genre', fontsize = 26, fontweight = 'bold')\n",
    "plt.ylabel('Loudness (dB)\\n', fontsize = 26, fontweight = 'bold')\n",
    "\n",
    "#Axis Chart Settings\n",
    "plt.ylim(ymax = 0, ymin = -10)\n",
    "plt.yticks(fontsize=18, fontweight=\"bold\")\n",
    "plt.xticks(fontsize=17, fontweight=\"bold\", rotation = 75)\n",
    "plt.tick_params(bottom = False)\n",
    "\n",
    "#Show the Query Data Chart\n",
    "plt.show()"
   ]
  },
  {
   "cell_type": "markdown",
   "id": "307cdbf0",
   "metadata": {},
   "source": [
    "#### <font color='teal'>Analysis :</font>"
   ]
  },
  {
   "cell_type": "markdown",
   "id": "bf6865cd",
   "metadata": {},
   "source": [
    "Pop genre tracks have the smallest loudness among other genres, followed by Alternative/Indie tracks; inversely proportional to the K-pop tracks that have the greatest loudness."
   ]
  },
  {
   "cell_type": "markdown",
   "id": "ea64b7cc",
   "metadata": {},
   "source": [
    "### <font color='dark brown'>Track Genre with Average Acousticness Ratio</font>"
   ]
  },
  {
   "cell_type": "code",
   "execution_count": null,
   "id": "6df301c6",
   "metadata": {},
   "outputs": [],
   "source": [
    "#Query Data\n",
    "data_genre_acousticness = data.groupby(['genre'], as_index = False)['acousticness'].mean()\n",
    "data_genre_acousticness = data_genre_acousticness.drop([2,3,7,9,11,14,15,16,18])\n",
    "data_genre_acousticness"
   ]
  },
  {
   "cell_type": "code",
   "execution_count": null,
   "id": "9dc305f6",
   "metadata": {},
   "outputs": [],
   "source": [
    "#Resize figure chart\n",
    "plt.figure(figsize=(30,25))\n",
    "\n",
    "#Input axis variable\n",
    "x = data_genre_acousticness['genre']\n",
    "y = data_genre_acousticness['acousticness']\n",
    "\n",
    "#Visualize the data with Bar Chart\n",
    "data_genre_acousticness_plot = plt.bar(x,y, width = 0.88, color = ['#db2a27','#dc6c27','#b37d1b','#9e9719','#9ec20e','#329906','#0b9c62','#174673','#3d0f94','#800a70'])\n",
    "plt.bar_label(data_genre_acousticness_plot, label_type = 'edge', fontsize = 26, fmt='%.4f', fontweight = 'bold')\n",
    "\n",
    "#Add Title, X-axis and Y-axis label\n",
    "plt.title('\\nComparison Graph of Song Genres on ASEAN Charts in August 2022\\nBased on Song Acousticness\\n', fontsize = 36, fontname = 'Times New Roman', fontweight = 'bold')\n",
    "plt.xlabel('\\nSong Genre', fontsize = 26, fontweight = 'bold')\n",
    "plt.ylabel('Acousticness\\n', fontsize = 26, fontweight = 'bold')\n",
    "\n",
    "#Axis Chart Settings\n",
    "plt.ylim(ymax = 1)\n",
    "plt.yticks(fontsize=18, fontweight=\"bold\")\n",
    "plt.xticks(fontsize=17, fontweight=\"bold\", rotation = 75)\n",
    "plt.tick_params(bottom = False)\n",
    "\n",
    "#Show the Query Data Chart\n",
    "plt.show()"
   ]
  },
  {
   "cell_type": "markdown",
   "id": "9f1e5e20",
   "metadata": {},
   "source": [
    "#### <font color='teal'>Analysis :</font>"
   ]
  },
  {
   "cell_type": "markdown",
   "id": "3a377750",
   "metadata": {},
   "source": [
    "   Pop tracks have the largest average acousticness ratio among other genres, followed by Alternative/Indie tracks; inversely proportional to the EDM tracks that have the smallest average ratio."
   ]
  },
  {
   "cell_type": "markdown",
   "id": "4d1275f5",
   "metadata": {},
   "source": [
    "### <font color='dark brown'>Track Genre with Average Worldwide Popularity Score</font>"
   ]
  },
  {
   "cell_type": "code",
   "execution_count": null,
   "id": "2adf045f",
   "metadata": {},
   "outputs": [],
   "source": [
    "#Query Data\n",
    "data_genre_popularity = data.groupby(['genre'], as_index = False)['popularity'].mean()\n",
    "data_genre_popularity = data_genre_popularity.drop([2,3,7,9,11,14,15,16,18])\n",
    "data_genre_popularity"
   ]
  },
  {
   "cell_type": "code",
   "execution_count": null,
   "id": "69c06c91",
   "metadata": {},
   "outputs": [],
   "source": [
    "#Resize figure chart\n",
    "plt.figure(figsize=(30,25))\n",
    "\n",
    "#Input axis variable\n",
    "x = data_genre_popularity['genre']\n",
    "y = data_genre_popularity['popularity']\n",
    "\n",
    "#Visualize the data with Bar Chart\n",
    "data_genre_popularity_plot = plt.bar(x,y, width = 0.88, color = ['#db2a27','#dc6c27','#b37d1b','#9e9719','#9ec20e','#329906','#0b9c62','#174673','#3d0f94','#800a70'])\n",
    "plt.bar_label(data_genre_popularity_plot, label_type = 'edge', fontsize = 26, fmt='%.4f', fontweight = 'bold')\n",
    "\n",
    "#Add Title, X-axis and Y-axis label\n",
    "plt.title('\\nComparison Graph of Song Genres on ASEAN Charts in August 2022\\nBased on Song Popularity\\n', fontsize = 36, fontname = 'Times New Roman', fontweight = 'bold')\n",
    "plt.xlabel('\\nSong Genre', fontsize = 26, fontweight = 'bold')\n",
    "plt.ylabel('Popularity\\n', fontsize = 26, fontweight = 'bold')\n",
    "\n",
    "#Axis Chart Settings\n",
    "plt.ylim(ymax = 100)\n",
    "plt.yticks(fontsize=18, fontweight=\"bold\")\n",
    "plt.xticks(fontsize=17, fontweight=\"bold\", rotation = 75)\n",
    "plt.tick_params(bottom = False)\n",
    "\n",
    "#Show the Query Data Chart\n",
    "plt.show()"
   ]
  },
  {
   "cell_type": "markdown",
   "id": "815d7d55",
   "metadata": {},
   "source": [
    "#### <font color='teal'>Analysis :</font>"
   ]
  },
  {
   "cell_type": "markdown",
   "id": "d92f1b84",
   "metadata": {},
   "source": [
    "Alternative/Indie genre tracks have the highest average popularity score, followed by Electropop. Meanwhile the C-Pop genre track has the lowest average popularity score."
   ]
  },
  {
   "cell_type": "markdown",
   "id": "fce007ab",
   "metadata": {},
   "source": [
    "### <font color='dark brown'>Track Genre with Song Modes</font>"
   ]
  },
  {
   "cell_type": "code",
   "execution_count": null,
   "id": "422e09bb",
   "metadata": {
    "scrolled": false
   },
   "outputs": [],
   "source": [
    "plt.figure(figsize=(15,10))\n",
    "\n",
    "#To see a comparison of the number of modes, a gradient color table is used.\n",
    "data_genre_mode = data[['genre','mode']]\n",
    "data_genre_mode = (data_genre_mode\n",
    "        .groupby(['genre', 'mode'])['mode']\n",
    "        .count()\n",
    "        .unstack(1))\n",
    "\n",
    "#The color gradient used is \"Red, Yellow, and Green\".\n",
    "data_genre_mode = data_genre_mode.style.background_gradient(cmap='RdYlGn')\n",
    "\n",
    "#Show Data Table\n",
    "data_genre_mode"
   ]
  },
  {
   "cell_type": "markdown",
   "id": "8280009b",
   "metadata": {},
   "source": [
    "#### <font color='teal'>Analysis :</font>"
   ]
  },
  {
   "cell_type": "markdown",
   "id": "838e5edd",
   "metadata": {},
   "source": [
    "    Pop genre tracks equally dominate the number of songs in both types of modes."
   ]
  },
  {
   "cell_type": "markdown",
   "id": "8f4e24f1",
   "metadata": {},
   "source": [
    "### <font color='dark brown'>Track Key Analysis</font>"
   ]
  },
  {
   "cell_type": "code",
   "execution_count": null,
   "id": "cc928010",
   "metadata": {},
   "outputs": [],
   "source": [
    "#Query Data\n",
    "data['key_obj'] = data['key'].astype('str')\n",
    "data_key = data.groupby(['key'], as_index = False)['key_obj'].count()\n",
    "data_key"
   ]
  },
  {
   "cell_type": "code",
   "execution_count": null,
   "id": "c519e2cf",
   "metadata": {},
   "outputs": [],
   "source": [
    "#Resize figure chart\n",
    "plt.figure(figsize=(30,25))\n",
    "\n",
    "#Input axis variable\n",
    "x = data_key['key']\n",
    "y = data_key['key_obj']\n",
    "\n",
    "#Visualize the data with Bar Chart\n",
    "data_key_plot = plt.bar(x,y, width = 0.88, color = ['#db2a27','#dc6c27','#b37d1b','#9e9719','#9ec20e','#329906','#0b9c62','#174673','#3d0f94','#2392a1','#82714d','#524f4a'])\n",
    "plt.bar_label(data_key_plot, label_type = 'edge', fontsize = 26, fontweight = 'bold')\n",
    "\n",
    "#Add Title, X-axis and Y-axis label\n",
    "plt.title('\\nComparison Graph of Song Keys on ASEAN Charts in August 2022\\n', fontsize = 36, fontname = 'Times New Roman', fontweight = 'bold')\n",
    "plt.xlabel('\\nSong Key', fontsize = 26, fontweight = 'bold')\n",
    "plt.ylabel('Total Songs\\n', fontsize = 26, fontweight = 'bold')\n",
    "\n",
    "#Axis Chart Settings\n",
    "plt.ylim(ymax = 100)\n",
    "plt.yticks(fontsize=18, fontweight=\"bold\")\n",
    "plt.xticks([0,1,2,3,4,5,6,7,8,9,10,11], ['C','C♯,D♭','D','D♯,E♭','E','F','F♯,G♭','G','G♯,A♭','A','A♯,B♭','B'], fontsize=22, fontweight=\"bold\", rotation = 75)\n",
    "plt.tick_params(bottom = False)\n",
    "\n",
    "plt.savefig('Comparison Graph of Song Keys on ASEAN Charts in August 2022.jpg', dpi=300)\n",
    "\n",
    "#Show the Query Data Chart\n",
    "plt.show()"
   ]
  },
  {
   "cell_type": "markdown",
   "id": "a01e6e4c",
   "metadata": {},
   "source": [
    "#### <font color='teal'>Analysis :</font>"
   ]
  },
  {
   "cell_type": "markdown",
   "id": "936d75e1",
   "metadata": {},
   "source": [
    "Tracks with the C key have the highest number of comparisons followed by the A key."
   ]
  },
  {
   "cell_type": "markdown",
   "id": "96ff59ac",
   "metadata": {},
   "source": [
    "# <font color='k'>Conclusions</font>"
   ]
  },
  {
   "cell_type": "markdown",
   "id": "25f52165",
   "metadata": {},
   "source": [
    "Based on the data of the Top 50 ASEAN Song Charts that we have analyzed previously, the following information is obtained:"
   ]
  },
  {
   "cell_type": "markdown",
   "id": "4f43e606",
   "metadata": {},
   "source": [
    "* There are 349 songs from 245 different artists on the song charts of 10 ASEAN countries."
   ]
  },
  {
   "cell_type": "markdown",
   "id": "783be369",
   "metadata": {},
   "source": [
    "* Mark Tuan became the singer with the most number of tracks as many as 24 tracks. \"Pink Venom\" from Black Pink became the song with the widest chart spread, namely in 9 out of 10 ASEAN countries."
   ]
  },
  {
   "cell_type": "markdown",
   "id": "e55a1608",
   "metadata": {},
   "source": [
    "* The tracks listed on the charts are from 1969 to 2022, with the music tracks published in 2022 having the highest number of tracks at 219."
   ]
  },
  {
   "cell_type": "markdown",
   "id": "134611c5",
   "metadata": {},
   "source": [
    "* The tracks on the ASEAN song charts are divided into 19 genres, with Pop followed by K-pop having the highest number of genres."
   ]
  },
  {
   "cell_type": "markdown",
   "id": "15cfd272",
   "metadata": {},
   "source": [
    "* Based on correlation map analysis, the valence ratio of music tracks has the largest positive correlation to the ratio of danceability and energy. The most significant positive correlation is found in the relationship between energy ratio and loudness of the track, while the most significant negative correlation occurs in the relationship between energy ratio and acousticness ratio of the music track."
   ]
  },
  {
   "cell_type": "markdown",
   "id": "8958a534",
   "metadata": {},
   "source": [
    "* The genre of a music track has a different effect on each attribute that affects a track."
   ]
  }
 ],
 "metadata": {
  "kernelspec": {
   "display_name": "Python 3 (ipykernel)",
   "language": "python",
   "name": "python3"
  },
  "language_info": {
   "codemirror_mode": {
    "name": "ipython",
    "version": 3
   },
   "file_extension": ".py",
   "mimetype": "text/x-python",
   "name": "python",
   "nbconvert_exporter": "python",
   "pygments_lexer": "ipython3",
   "version": "3.9.7"
  }
 },
 "nbformat": 4,
 "nbformat_minor": 5
}
